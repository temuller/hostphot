{
 "cells": [
  {
   "cell_type": "markdown",
   "id": "5bec0f44-8edf-473d-9daf-5c1b95feefc0",
   "metadata": {},
   "source": [
    "# HST & JWST\n",
    "\n",
    "HST images take very long to download, so the user might prefer to download the images manually (or maybe use private data) and then use ``set_HST_image`` to include the image into HostPhot's workflow. The download of JWST images has not been implemented yet, but the user can use their own images with ``set_JWST_image``, similar as with HST. The rest of the example uses HST, but it is essentially the same for JWST.\n",
    "    \n",
    "The difference with other surveys is that HostPhot only handles one filter at a time when working with HST or JWST given the large combination of instruments and filters."
   ]
  },
  {
   "cell_type": "code",
   "execution_count": 1,
   "id": "ef9e91fd-25e4-41e8-9dbe-ebc1c62903db",
   "metadata": {},
   "outputs": [
    {
     "name": "stdout",
     "output_type": "stream",
     "text": [
      "HostPhot version: 3.0.0\n"
     ]
    }
   ],
   "source": [
    "import hostphot\n",
    "print('HostPhot version:', hostphot.__version__)"
   ]
  },
  {
   "cell_type": "code",
   "execution_count": 2,
   "id": "635ab702-f546-412a-81df-49bdffab7ec2",
   "metadata": {
    "tags": []
   },
   "outputs": [],
   "source": [
    "from hostphot.cutouts import set_HST_image\n",
    "\n",
    "name = \"ASASSN-13AR-HOST\"\n",
    "host_ra, host_dec = 19.67456, -7.44498\n",
    "\n",
    "survey = 'HST'\n",
    "filt = 'WFC3_UVIS_F275W'\n",
    "file = \"../../tests/hst_16741_2v_wfc3_uvis_f275w_iepo2v_drc.fits\"\n",
    "\n",
    "set_HST_image(file, filt, name)"
   ]
  },
  {
   "cell_type": "code",
   "execution_count": 3,
   "id": "3e1c1eae-efc3-475d-94f8-9401b49c10a3",
   "metadata": {},
   "outputs": [],
   "source": [
    "from astropy.io import fits\n",
    "\n",
    "hdu = fits.open(\"images/ASASSN-13AR-HOST/HST/HST_WFC3_UVIS_F275W.fits\")"
   ]
  },
  {
   "cell_type": "markdown",
   "id": "450b1245-128a-48f0-88cc-9029815c65f9",
   "metadata": {},
   "source": [
    "And the rest of the process is the same as with any other survey."
   ]
  },
  {
   "cell_type": "code",
   "execution_count": null,
   "id": "adc7cbe6-be31-42bb-a105-9d808bc24f87",
   "metadata": {},
   "outputs": [],
   "source": []
  }
 ],
 "metadata": {
  "kernelspec": {
   "display_name": "Python 3 (ipykernel)",
   "language": "python",
   "name": "python3"
  },
  "language_info": {
   "codemirror_mode": {
    "name": "ipython",
    "version": 3
   },
   "file_extension": ".py",
   "mimetype": "text/x-python",
   "name": "python",
   "nbconvert_exporter": "python",
   "pygments_lexer": "ipython3",
   "version": "3.11.0"
  }
 },
 "nbformat": 4,
 "nbformat_minor": 5
}
